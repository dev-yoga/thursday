{
 "cells": [
  {
   "cell_type": "code",
   "execution_count": 1,
   "metadata": {},
   "outputs": [],
   "source": [
    "def in_range(num, lower, upper):\n",
    "    if (num >= lower) and (num <= upper):\n",
    "        return True\n",
    "    else:\n",
    "        return False\n",
    "\n",
    "print(in_range(10, 10, 10))\n",
    "# should print True\n",
    "print(in_range(5, 10, 20))\n",
    "# should print False"
   ]
  }
 ],
 "metadata": {
  "interpreter": {
   "hash": "5513e79d237b9ee59df234f10ffd55becb45afecafa8510262bcdabcf15fa6e1"
  },
  "kernelspec": {
   "display_name": "Python 3.9.10 ('thursday_env': venv)",
   "language": "python",
   "name": "python3"
  },
  "language_info": {
   "codemirror_mode": {
    "name": "ipython",
    "version": 3
   },
   "file_extension": ".py",
   "mimetype": "text/x-python",
   "name": "python",
   "nbconvert_exporter": "python",
   "pygments_lexer": "ipython3",
   "version": "3.9.10"
  },
  "orig_nbformat": 4
 },
 "nbformat": 4,
 "nbformat_minor": 2
}
