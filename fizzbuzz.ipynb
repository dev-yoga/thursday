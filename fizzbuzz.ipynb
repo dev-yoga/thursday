{
 "cells": [
  {
   "cell_type": "code",
   "execution_count": 5,
   "metadata": {},
   "outputs": [
    {
     "name": "stdout",
     "output_type": "stream",
     "text": [
      "30\n",
      "Fizz\n"
     ]
    }
   ],
   "source": [
    "import random\n",
    "\n",
    "num = random.randint(0, 100)\n",
    "\n",
    "print(num)\n",
    "\n",
    "if num % 3 == 0:\n",
    "    print('Fizz')"
   ]
  }
 ],
 "metadata": {
  "interpreter": {
   "hash": "5513e79d237b9ee59df234f10ffd55becb45afecafa8510262bcdabcf15fa6e1"
  },
  "kernelspec": {
   "display_name": "Python 3.9.10 ('thursday_env': venv)",
   "language": "python",
   "name": "python3"
  },
  "language_info": {
   "codemirror_mode": {
    "name": "ipython",
    "version": 3
   },
   "file_extension": ".py",
   "mimetype": "text/x-python",
   "name": "python",
   "nbconvert_exporter": "python",
   "pygments_lexer": "ipython3",
   "version": "3.9.10"
  },
  "orig_nbformat": 4
 },
 "nbformat": 4,
 "nbformat_minor": 2
}
