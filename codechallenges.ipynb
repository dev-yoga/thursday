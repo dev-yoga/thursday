{
 "cells": [
  {
   "cell_type": "markdown",
   "metadata": {},
   "source": [
    "Create a function named large_power() that takes two parameters named base and exponent.\n",
    "\n",
    "If base raised to the exponent is greater than 5000, return True, otherwise return False"
   ]
  },
  {
   "cell_type": "code",
   "execution_count": 2,
   "metadata": {},
   "outputs": [
    {
     "name": "stdout",
     "output_type": "stream",
     "text": [
      "True\n",
      "False\n"
     ]
    }
   ],
   "source": [
    "def large_power(base, exponent):\n",
    "    if (base ** exponent) > 5000:\n",
    "        return True\n",
    "    else:\n",
    "        return False\n",
    "\n",
    "print(large_power(2, 13))\n",
    "# should print true\n",
    "print(large_power(2, 12))\n",
    "# should print false"
   ]
  },
  {
   "cell_type": "markdown",
   "metadata": {},
   "source": [
    "1. Define the function to accept five parameters starting with budget then food_bill, electricity_bill, internet_bill, and rent\n",
    "\n",
    "2. Calculate the sum of the last four parameters\n",
    "Use if and else statements to test if the budget is less than the sum of the calculated sum from the previous step.\n",
    "\n",
    "3. If the condition is true, return True otherwise return False"
   ]
  },
  {
   "cell_type": "code",
   "execution_count": null,
   "metadata": {},
   "outputs": [],
   "source": [
    "def over_budget(budget, food_bill, electricity_bill, internet_bill, rent):\n",
    "    if budget < (food_bill, electricity_bill, internet_bill, rent):\n",
    "        return True\n",
    "    else:\n",
    "        return False"
   ]
  }
 ],
 "metadata": {
  "interpreter": {
   "hash": "5513e79d237b9ee59df234f10ffd55becb45afecafa8510262bcdabcf15fa6e1"
  },
  "kernelspec": {
   "display_name": "Python 3.9.10 ('thursday_env': venv)",
   "language": "python",
   "name": "python3"
  },
  "language_info": {
   "codemirror_mode": {
    "name": "ipython",
    "version": 3
   },
   "file_extension": ".py",
   "mimetype": "text/x-python",
   "name": "python",
   "nbconvert_exporter": "python",
   "pygments_lexer": "ipython3",
   "version": "3.9.10"
  },
  "orig_nbformat": 4
 },
 "nbformat": 4,
 "nbformat_minor": 2
}
