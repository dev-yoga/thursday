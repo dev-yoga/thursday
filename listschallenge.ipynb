{
 "cells": [
  {
   "cell_type": "code",
   "execution_count": 2,
   "metadata": {},
   "outputs": [
    {
     "name": "stdout",
     "output_type": "stream",
     "text": [
      "[23, 42, 108, 3]\n"
     ]
    }
   ],
   "source": [
    "def append_size(lst):\n",
    "  lst.append(len(lst))\n",
    "  return lst\n",
    "\n",
    "\n",
    "print(append_size([23, 42, 108]))"
   ]
  },
  {
   "cell_type": "code",
   "execution_count": 3,
   "metadata": {},
   "outputs": [
    {
     "name": "stdout",
     "output_type": "stream",
     "text": [
      "None\n"
     ]
    }
   ],
   "source": [
    "def append_sum(lst):\n",
    "    lst.append(lst[-1] + lst[-2])\n",
    "\n",
    "print(append_sum([1, 1, 2]))"
   ]
  }
 ],
 "metadata": {
  "interpreter": {
   "hash": "5513e79d237b9ee59df234f10ffd55becb45afecafa8510262bcdabcf15fa6e1"
  },
  "kernelspec": {
   "display_name": "Python 3.9.10 ('thursday_env': venv)",
   "language": "python",
   "name": "python3"
  },
  "language_info": {
   "codemirror_mode": {
    "name": "ipython",
    "version": 3
   },
   "file_extension": ".py",
   "mimetype": "text/x-python",
   "name": "python",
   "nbconvert_exporter": "python",
   "pygments_lexer": "ipython3",
   "version": "3.9.10"
  },
  "orig_nbformat": 4
 },
 "nbformat": 4,
 "nbformat_minor": 2
}
