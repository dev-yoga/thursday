{
 "cells": [
  {
   "cell_type": "code",
   "execution_count": 2,
   "metadata": {},
   "outputs": [
    {
     "name": "stdout",
     "output_type": "stream",
     "text": [
      "[23, 42, 108, 3]\n"
     ]
    }
   ],
   "source": [
    "def append_size(lst):\n",
    "  lst.append(len(lst))\n",
    "  return lst\n",
    "\n",
    "\n",
    "print(append_size([23, 42, 108]))"
   ]
  },
  {
   "cell_type": "code",
   "execution_count": 4,
   "metadata": {},
   "outputs": [
    {
     "name": "stdout",
     "output_type": "stream",
     "text": [
      "[1, 1, 2, 3, 5, 8]\n"
     ]
    }
   ],
   "source": [
    "def append_sum(lst):\n",
    "  lst.append(lst[-1] + lst[-2])\n",
    "  lst.append(lst[-1] + lst[-2])\n",
    "  lst.append(lst[-1] + lst[-2])\n",
    "  return lst\n",
    "\n",
    "print(append_sum([1, 1, 2]))"
   ]
  },
  {
   "cell_type": "code",
   "execution_count": 5,
   "metadata": {},
   "outputs": [
    {
     "name": "stdout",
     "output_type": "stream",
     "text": [
      "5\n"
     ]
    }
   ],
   "source": [
    "def larger_list(lst1, lst2):\n",
    "    if len(lst1) > len(lst2):\n",
    "        return lst1[-1]\n",
    "    elif len(lst1) < len(lst2):\n",
    "        return lst2[-1]\n",
    "    else:\n",
    "        return lst1[-1]\n",
    "\n",
    "print(larger_list([4, 10, 2, 5], [-10, 2, 5, 10]))"
   ]
  },
  {
   "cell_type": "code",
   "execution_count": 6,
   "metadata": {},
   "outputs": [
    {
     "name": "stdout",
     "output_type": "stream",
     "text": [
      "5\n"
     ]
    }
   ],
   "source": [
    "#another way:\n",
    "\n",
    "def larger_list(lst1, lst2):\n",
    "  if len(lst1) >= len(lst2):\n",
    "    return lst1[-1]\n",
    "  else:\n",
    "    return lst2[-1]\n",
    "\n",
    "print(larger_list([4, 10, 2, 5], [-10, 2, 5, 10]))"
   ]
  },
  {
   "cell_type": "code",
   "execution_count": 9,
   "metadata": {},
   "outputs": [
    {
     "name": "stdout",
     "output_type": "stream",
     "text": [
      "True\n"
     ]
    }
   ],
   "source": [
    "def more_than_n(lst, item, n):\n",
    "  if lst.count(item) > n:\n",
    "    return True\n",
    "  else:\n",
    "    return False\n",
    "\n",
    "print(more_than_n([2, 4, 6, 2, 3, 2, 1, 2], 2, 3))"
   ]
  },
  {
   "cell_type": "code",
   "execution_count": 10,
   "metadata": {},
   "outputs": [
    {
     "name": "stdout",
     "output_type": "stream",
     "text": [
      "[-10, 2, 2, 4, 5, 5, 10, 10]\n"
     ]
    }
   ],
   "source": [
    "def combine_sort(lst1, lst2):\n",
    "    return sorted(lst1 + lst2)\n",
    "\n",
    "print(combine_sort([4, 10, 2, 5], [-10, 2, 5, 10]))"
   ]
  },
  {
   "cell_type": "code",
   "execution_count": 12,
   "metadata": {},
   "outputs": [
    {
     "name": "stdout",
     "output_type": "stream",
     "text": [
      "[91, 94, 97, 100]\n"
     ]
    }
   ],
   "source": [
    "def every_three_numbers(start):\n",
    "    return list(range(start, 101, 3))\n",
    "\n",
    "print(every_three_numbers(91))"
   ]
  },
  {
   "cell_type": "code",
   "execution_count": null,
   "metadata": {},
   "outputs": [],
   "source": [
    "def remove_middle(lst, start, end):\n",
    "  return lst[:start] + lst[end+1:]\n",
    "\n",
    "print(remove_middle([4, 8, 15, 16, 23, 42], 1, 3))"
   ]
  },
  {
   "cell_type": "code",
   "execution_count": 13,
   "metadata": {},
   "outputs": [
    {
     "name": "stdout",
     "output_type": "stream",
     "text": [
      "3\n"
     ]
    }
   ],
   "source": [
    "def more_frequent_item(lst, item1, item2):\n",
    "  if lst.count(item1) >= lst.count(item2):\n",
    "    return item1\n",
    "  else:\n",
    "    return item2\n",
    "\n",
    "print(more_frequent_item([2, 3, 3, 2, 3, 2, 3, 2, 3], 2, 3))"
   ]
  }
 ],
 "metadata": {
  "interpreter": {
   "hash": "5513e79d237b9ee59df234f10ffd55becb45afecafa8510262bcdabcf15fa6e1"
  },
  "kernelspec": {
   "display_name": "Python 3.9.10 ('thursday_env': venv)",
   "language": "python",
   "name": "python3"
  },
  "language_info": {
   "codemirror_mode": {
    "name": "ipython",
    "version": 3
   },
   "file_extension": ".py",
   "mimetype": "text/x-python",
   "name": "python",
   "nbconvert_exporter": "python",
   "pygments_lexer": "ipython3",
   "version": "3.9.10"
  },
  "orig_nbformat": 4
 },
 "nbformat": 4,
 "nbformat_minor": 2
}
